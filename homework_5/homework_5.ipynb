{
 "cells": [
  {
   "cell_type": "code",
   "execution_count": 84,
   "id": "f39f520d",
   "metadata": {},
   "outputs": [],
   "source": [
    "from pyspark.sql import SparkSession\n",
    "import pyspark.sql.functions as F\n",
    "import psycopg2\n",
    "from pyspark.sql.window import Window"
   ]
  },
  {
   "cell_type": "code",
   "execution_count": 2,
   "id": "d8e2c849",
   "metadata": {},
   "outputs": [],
   "source": [
    "pg_url = 'jdbc:postgresql://192.168.0.108:5432/postgres'\n",
    "pg_properties = {'user':'pguser', 'password':'secret', \"driver\":\"org.postgresql.Driver\"}"
   ]
  },
  {
   "cell_type": "code",
   "execution_count": 3,
   "id": "7c375e0f",
   "metadata": {},
   "outputs": [],
   "source": [
    "spark = SparkSession.builder\\\n",
    "        .config('spark.driver.extraClassPath', '/home/user/shared_folder/postgresql-42.2.20.jar')\\\n",
    "        .master('local')\\\n",
    "        .appName('homework_5')\\\n",
    "        .getOrCreate()"
   ]
  },
  {
   "cell_type": "code",
   "execution_count": 4,
   "id": "72c2427c",
   "metadata": {},
   "outputs": [
    {
     "data": {
      "text/plain": [
       "'3.1.1'"
      ]
     },
     "execution_count": 4,
     "metadata": {},
     "output_type": "execute_result"
    }
   ],
   "source": [
    "spark.version"
   ]
  },
  {
   "cell_type": "markdown",
   "id": "bf57ebe2",
   "metadata": {},
   "source": [
    "#### Вывести количество фильмов в каждой категории, отсортировать по убыванию."
   ]
  },
  {
   "cell_type": "code",
   "execution_count": 8,
   "id": "2867cbcb",
   "metadata": {},
   "outputs": [],
   "source": [
    "category_df = spark.read.jdbc(pg_url, 'public.category', properties=pg_properties)\n",
    "film_category_df = spark.read.jdbc(pg_url, 'public.film_category', properties=pg_properties)"
   ]
  },
  {
   "cell_type": "code",
   "execution_count": 46,
   "id": "d5535289",
   "metadata": {
    "scrolled": true
   },
   "outputs": [
    {
     "name": "stdout",
     "output_type": "stream",
     "text": [
      "+-----------+------------+\n",
      "|       name|movies_count|\n",
      "+-----------+------------+\n",
      "|     Sports|          74|\n",
      "|    Foreign|          73|\n",
      "|     Family|          69|\n",
      "|Documentary|          68|\n",
      "|  Animation|          66|\n",
      "|     Action|          64|\n",
      "|        New|          63|\n",
      "|      Drama|          62|\n",
      "|     Sci-Fi|          61|\n",
      "|      Games|          61|\n",
      "|   Children|          60|\n",
      "|     Comedy|          58|\n",
      "|     Travel|          57|\n",
      "|   Classics|          57|\n",
      "|     Horror|          56|\n",
      "|      Music|          51|\n",
      "+-----------+------------+\n",
      "\n"
     ]
    }
   ],
   "source": [
    "category_df.join(film_category_df, category_df.category_id == film_category_df.category_id, 'left')\\\n",
    "            .groupBy('name')\\\n",
    "            .agg(F.count('film_id')\\\n",
    "            .alias('movies_count'))\\\n",
    "            .sort('movies_count', ascending=False).show()"
   ]
  },
  {
   "cell_type": "markdown",
   "id": "3392292b",
   "metadata": {},
   "source": [
    "#### Вывести 10 актеров, чьи фильмы большего всего арендовали, отсортировать по убыванию."
   ]
  },
  {
   "cell_type": "code",
   "execution_count": 47,
   "id": "8680014b",
   "metadata": {},
   "outputs": [],
   "source": [
    "rental_df = spark.read.jdbc(pg_url, 'public.rental', properties=pg_properties)\n",
    "inventory_df = spark.read.jdbc(pg_url, 'public.inventory', properties=pg_properties)\n",
    "film_actor_df = spark.read.jdbc(pg_url, 'public.film_actor', properties=pg_properties)\n",
    "actor_df = spark.read.jdbc(pg_url, 'public.actor', properties=pg_properties)"
   ]
  },
  {
   "cell_type": "code",
   "execution_count": 54,
   "id": "116a399c",
   "metadata": {},
   "outputs": [
    {
     "name": "stdout",
     "output_type": "stream",
     "text": [
      "+------------------+------------+\n",
      "|             actor|rental_count|\n",
      "+------------------+------------+\n",
      "|       SUSAN DAVIS|         825|\n",
      "|    GINA DEGENERES|         753|\n",
      "|    MATTHEW CARREY|         678|\n",
      "|       MARY KEITEL|         674|\n",
      "|ANGELA WITHERSPOON|         654|\n",
      "|       WALTER TORN|         640|\n",
      "|       HENRY BERRY|         612|\n",
      "|       JAYNE NOLTE|         611|\n",
      "|        VAL BOLGER|         605|\n",
      "|     SANDRA KILMER|         604|\n",
      "+------------------+------------+\n",
      "\n"
     ]
    }
   ],
   "source": [
    "rental_df.join(inventory_df, rental_df.inventory_id == inventory_df.inventory_id, 'left')\\\n",
    "         .join(film_actor_df, inventory_df.film_id == film_actor_df.film_id, 'left')\\\n",
    "         .join(actor_df, film_actor_df.actor_id == actor_df.actor_id, 'left')\\\n",
    "         .groupBy(F.concat(F.col('first_name'), F.lit(' '), F.col('last_name')).alias('actor'))\\\n",
    "         .agg(F.count('rental_id')\\\n",
    "         .alias('rental_count'))\\\n",
    "         .sort('rental_count', ascending=False)\\\n",
    "         .limit(10).show()"
   ]
  },
  {
   "cell_type": "markdown",
   "id": "0c16c5a6",
   "metadata": {},
   "source": [
    "#### Вывести категорию фильмов, на которую потратили больше всего денег."
   ]
  },
  {
   "cell_type": "code",
   "execution_count": 53,
   "id": "3ae52e56",
   "metadata": {},
   "outputs": [],
   "source": [
    "payment_df = spark.read.jdbc(pg_url, 'public.payment', properties=pg_properties)"
   ]
  },
  {
   "cell_type": "code",
   "execution_count": 55,
   "id": "71c81d7b",
   "metadata": {},
   "outputs": [
    {
     "name": "stdout",
     "output_type": "stream",
     "text": [
      "+------+----------+\n",
      "|  name|rental_sum|\n",
      "+------+----------+\n",
      "|Sports|   5314.21|\n",
      "+------+----------+\n",
      "\n"
     ]
    }
   ],
   "source": [
    "payment_df.join(rental_df, payment_df.rental_id == rental_df.rental_id, 'left')\\\n",
    "          .join(inventory_df, rental_df.inventory_id == inventory_df.inventory_id, 'left')\\\n",
    "          .join(film_category_df, inventory_df.film_id == film_category_df.film_id, 'left')\\\n",
    "          .join(category_df, film_category_df.category_id == category_df.category_id, 'left')\\\n",
    "          .groupBy('name')\\\n",
    "          .agg(F.sum('amount')\\\n",
    "          .alias('rental_sum'))\\\n",
    "          .sort('rental_sum', ascending=False)\\\n",
    "          .limit(1).show()"
   ]
  },
  {
   "cell_type": "markdown",
   "id": "3b72b568",
   "metadata": {},
   "source": [
    "#### Вывести названия фильмов, которых нет в inventory"
   ]
  },
  {
   "cell_type": "code",
   "execution_count": 57,
   "id": "016d6dcf",
   "metadata": {},
   "outputs": [],
   "source": [
    "film_df = spark.read.jdbc(pg_url, 'public.film', properties=pg_properties)"
   ]
  },
  {
   "cell_type": "code",
   "execution_count": 66,
   "id": "3fc04c82",
   "metadata": {},
   "outputs": [
    {
     "name": "stdout",
     "output_type": "stream",
     "text": [
      "+--------------------+\n",
      "|               title|\n",
      "+--------------------+\n",
      "|      CHOCOLATE DUCK|\n",
      "|       BUTCH PANTHER|\n",
      "|        VOLUME HOUSE|\n",
      "|      ORDER BETRAYED|\n",
      "|        TADPOLE PARK|\n",
      "|    KILL BROTHERHOOD|\n",
      "|FRANKENSTEIN STRA...|\n",
      "|    CROSSING DIVORCE|\n",
      "|    SUICIDES SILENCE|\n",
      "|       CATCH AMISTAD|\n",
      "|     PERDITION FARGO|\n",
      "|       FLOATS GARDEN|\n",
      "|           GUMP DATE|\n",
      "|        WALLS ARTIST|\n",
      "|  GLADIATOR WESTWARD|\n",
      "|         HOCUS FRIDA|\n",
      "|ARSENIC INDEPENDENCE|\n",
      "|         MUPPET MILE|\n",
      "|   FIREHOUSE VIETNAM|\n",
      "|       ROOF CHAMPION|\n",
      "+--------------------+\n",
      "only showing top 20 rows\n",
      "\n"
     ]
    }
   ],
   "source": [
    "film_df.join(inventory_df, film_df.film_id == inventory_df.film_id, 'left')\\\n",
    "        .where(F.col('inventory_id').isNull())\\\n",
    "        .select('title')\\\n",
    "        .show()"
   ]
  },
  {
   "cell_type": "markdown",
   "id": "94139f68",
   "metadata": {},
   "source": [
    "#### Вывести топ 3 актеров, которые больше всего появлялись в фильмах в категории “Children”. Если у нескольких актеров одинаковое кол-во фильмов, вывести всех"
   ]
  },
  {
   "cell_type": "code",
   "execution_count": 99,
   "id": "2e47b05a",
   "metadata": {},
   "outputs": [
    {
     "name": "stdout",
     "output_type": "stream",
     "text": [
      "+-------------+------------+----+\n",
      "|        actor|count_movies|rank|\n",
      "+-------------+------------+----+\n",
      "| HELEN VOIGHT|           7|   1|\n",
      "|  SUSAN DAVIS|           6|   2|\n",
      "|   MARY TANDY|           5|   3|\n",
      "|   RALPH CRUZ|           5|   3|\n",
      "|  WHOOPI HURT|           5|   3|\n",
      "|KEVIN GARLAND|           5|   3|\n",
      "+-------------+------------+----+\n",
      "\n"
     ]
    }
   ],
   "source": [
    "film_actor_df.join(actor_df, film_actor_df.actor_id == actor_df.actor_id, 'left')\\\n",
    "         .join(film_category_df, film_actor_df.film_id == film_category_df.film_id, 'left')\\\n",
    "         .join(category_df, film_category_df.category_id == category_df.category_id, 'left')\\\n",
    "         .where(F.col('name') == 'Children')\\\n",
    "         .groupBy(F.concat(F.col('first_name'), F.lit(' '), F.col('last_name')).alias('actor'))\\\n",
    "         .agg(F.count(film_actor_df.film_id)\\\n",
    "         .alias('count_movies'))\\\n",
    "         .sort('count_movies', ascending=False)\\\n",
    "         .select('actor', 'count_movies')\\\n",
    "         .withColumn('rank', F.rank().over(Window.orderBy(F.desc('count_movies'))))\\\n",
    "         .where(F.col('rank') <= 3).show()"
   ]
  },
  {
   "cell_type": "markdown",
   "id": "68e98c46",
   "metadata": {},
   "source": [
    "#### Вывести города с количеством активных и неактивных клиентов (активный — customer.active = 1). Отсортировать по количеству неактивных клиентов по убыванию."
   ]
  },
  {
   "cell_type": "code",
   "execution_count": 100,
   "id": "bc714fcb",
   "metadata": {},
   "outputs": [],
   "source": [
    "customer_df = spark.read.jdbc(pg_url, 'public.customer', properties=pg_properties)\n",
    "address_df = spark.read.jdbc(pg_url, 'public.address', properties=pg_properties)\n",
    "city_df = spark.read.jdbc(pg_url, 'public.city', properties=pg_properties)"
   ]
  },
  {
   "cell_type": "code",
   "execution_count": 122,
   "id": "07377b4c",
   "metadata": {},
   "outputs": [
    {
     "name": "stdout",
     "output_type": "stream",
     "text": [
      "+----------------+------------+---------------+\n",
      "|            city|active_users|no_active_users|\n",
      "+----------------+------------+---------------+\n",
      "|          Ktahya|           0|              1|\n",
      "|Charlotte Amalie|           0|              1|\n",
      "|         Wroclaw|           0|              1|\n",
      "|       Pingxiang|           0|              1|\n",
      "|     Szkesfehrvr|           0|              1|\n",
      "|          Daxian|           0|              1|\n",
      "|   Coatzacoalcos|           0|              1|\n",
      "|          Amroha|           0|              1|\n",
      "| Southend-on-Sea|           0|              1|\n",
      "|        Uluberia|           0|              1|\n",
      "|       Najafabad|           0|              1|\n",
      "|        Xiangfan|           0|              1|\n",
      "|      Kumbakonam|           0|              1|\n",
      "|          Kamyin|           0|              1|\n",
      "|         Bat Yam|           0|              1|\n",
      "|        Myingyan|           1|              0|\n",
      "|          Monywa|           1|              0|\n",
      "|          Jining|           1|              0|\n",
      "|         El Alto|           1|              0|\n",
      "|       Mit Ghamr|           1|              0|\n",
      "+----------------+------------+---------------+\n",
      "only showing top 20 rows\n",
      "\n"
     ]
    }
   ],
   "source": [
    "customer_df.join(address_df, customer_df.address_id == address_df.address_id, 'left')\\\n",
    "           .join(city_df, address_df.city_id == city_df.city_id, 'left')\\\n",
    "           .withColumn('active_users', F.when(F.col('active') == 1,'Active').otherwise(None))\\\n",
    "           .withColumn('no_active_users', F.when(F.col('active') == 0,'No active').otherwise(None))\\\n",
    "           .groupBy(F.col('city'))\\\n",
    "           .agg(F.count('active_users').alias('active_users'), F.count('no_active_users').alias('no_active_users'))\\\n",
    "           .sort('no_active_users', ascending=False).show()   "
   ]
  },
  {
   "cell_type": "markdown",
   "id": "e1650b90",
   "metadata": {},
   "source": [
    "#### Вывести категорию фильмов, у которой самое большое кол-во часов суммарной аренды в городах (customer.address_id в этом city), и которые начинаются на букву “a”. То же самое сделать для городов в которых есть символ “-”"
   ]
  },
  {
   "cell_type": "code",
   "execution_count": 145,
   "id": "a12529e3",
   "metadata": {},
   "outputs": [
    {
     "name": "stdout",
     "output_type": "stream",
     "text": [
      "+-----------+-----+\n",
      "|       name|  sum|\n",
      "+-----------+-----+\n",
      "|     Sports|16198|\n",
      "|     Action|14643|\n",
      "|     Sci-Fi|14453|\n",
      "|      Drama|13080|\n",
      "|   Children|13006|\n",
      "|     Family|12723|\n",
      "|     Comedy|12028|\n",
      "|    Foreign|11902|\n",
      "|      Music|11721|\n",
      "|      Games|11509|\n",
      "|Documentary|11372|\n",
      "|  Animation|11227|\n",
      "|        New|11176|\n",
      "|   Classics|10701|\n",
      "|     Horror|10517|\n",
      "|     Travel| 9908|\n",
      "+-----------+-----+\n",
      "\n"
     ]
    }
   ],
   "source": [
    "rental_df.join(inventory_df, rental_df.inventory_id == inventory_df.inventory_id, 'left')\\\n",
    "          .join(film_category_df, inventory_df.film_id == film_category_df.film_id, 'left')\\\n",
    "          .join(category_df, film_category_df.category_id == category_df.category_id, 'left')\\\n",
    "          .join(customer_df, rental_df.customer_id == customer_df.customer_id, 'left')\\\n",
    "          .join(address_df, customer_df.address_id == address_df.address_id, 'left')\\\n",
    "          .join(city_df, address_df.city_id == city_df.city_id, 'left')\\\n",
    "          .where(F.year('rental_date')=='2005')\\\n",
    "          .where(F.col('city').like('a%')\\\n",
    "                 |F.col('city').like('A%')\\\n",
    "                 |F.col('city').like('%-%')\\\n",
    "                 |F.col('city').like('-%')\\\n",
    "                 |F.col('city').like('%-'))\\\n",
    "          .groupBy('name')\\\n",
    "          .agg(F.sum((F.month('return_date') - F.month('rental_date'))*720\\\n",
    "                   + (F.dayofmonth('return_date') - F.dayofmonth('rental_date'))*24\\\n",
    "                   + (F.hour('return_date') - F.hour('rental_date')))\\\n",
    "          .alias('sum'))\\\n",
    "          .sort('sum', ascending=False).show()"
   ]
  }
 ],
 "metadata": {
  "kernelspec": {
   "display_name": "Python 3",
   "language": "python",
   "name": "python3"
  },
  "language_info": {
   "codemirror_mode": {
    "name": "ipython",
    "version": 3
   },
   "file_extension": ".py",
   "mimetype": "text/x-python",
   "name": "python",
   "nbconvert_exporter": "python",
   "pygments_lexer": "ipython3",
   "version": "3.8.8"
  }
 },
 "nbformat": 4,
 "nbformat_minor": 5
}
